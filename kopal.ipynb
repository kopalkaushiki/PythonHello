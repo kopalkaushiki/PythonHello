{
  "nbformat": 4,
  "nbformat_minor": 0,
  "metadata": {
    "colab": {
      "provenance": [],
      "authorship_tag": "ABX9TyO3HR5/jKML/SSS5u6BAgjC",
      "include_colab_link": true
    },
    "kernelspec": {
      "name": "python3",
      "display_name": "Python 3"
    },
    "language_info": {
      "name": "python"
    }
  },
  "cells": [
    {
      "cell_type": "markdown",
      "metadata": {
        "id": "view-in-github",
        "colab_type": "text"
      },
      "source": [
        "<a href=\"https://colab.research.google.com/github/kopalkaushiki/PythonHello/blob/main/kopal.ipynb\" target=\"_parent\"><img src=\"https://colab.research.google.com/assets/colab-badge.svg\" alt=\"Open In Colab\"/></a>"
      ]
    },
    {
      "cell_type": "code",
      "execution_count": null,
      "metadata": {
        "colab": {
          "base_uri": "https://localhost:8080/"
        },
        "id": "VRNscSF0LzMx",
        "outputId": "a4327086-5726-4f94-bd9d-2cb931f37223"
      },
      "outputs": [
        {
          "output_type": "stream",
          "name": "stdout",
          "text": [
            "opal\n"
          ]
        }
      ],
      "source": [
        "print(\"opal\")"
      ]
    },
    {
      "cell_type": "code",
      "source": [
        "x=int(input(\"enter the valve\"))\n",
        "print (x)"
      ],
      "metadata": {
        "colab": {
          "base_uri": "https://localhost:8080/"
        },
        "id": "YxvBPfsQL3YH",
        "outputId": "4098e367-8d24-4886-eb7b-f074f7bbcde5"
      },
      "execution_count": null,
      "outputs": [
        {
          "output_type": "stream",
          "name": "stdout",
          "text": [
            "enter the valve88\n",
            "88\n"
          ]
        }
      ]
    },
    {
      "cell_type": "code",
      "source": [
        "x= \"vani\"\n",
        "y=len(x)\n",
        "print(y)\n",
        "print(x)"
      ],
      "metadata": {
        "id": "jluN-zlCNkc9",
        "colab": {
          "base_uri": "https://localhost:8080/"
        },
        "outputId": "b689cde9-9696-49b8-a3da-a8f8783ff8fa"
      },
      "execution_count": null,
      "outputs": [
        {
          "output_type": "stream",
          "name": "stdout",
          "text": [
            "4\n",
            "vani\n"
          ]
        }
      ]
    },
    {
      "cell_type": "code",
      "source": [
        "x=0\n",
        "if x==1:\n",
        "  print(\"x=1\")\n",
        "else:\n",
        "    print(\"x=0\")"
      ],
      "metadata": {
        "colab": {
          "base_uri": "https://localhost:8080/"
        },
        "id": "htuy0jzBQita",
        "outputId": "eb354b31-efc7-4fa8-b897-4ebf3efe81c4"
      },
      "execution_count": null,
      "outputs": [
        {
          "output_type": "stream",
          "name": "stdout",
          "text": [
            "x=0\n"
          ]
        }
      ]
    },
    {
      "cell_type": "code",
      "source": [
        "num=2\n",
        "if num>0:\n",
        "  print(\"positive num\")\n",
        "elif num==0:\n",
        "    print(\"zero\")\n",
        "else:\n",
        "      print(\"negative num\")"
      ],
      "metadata": {
        "colab": {
          "base_uri": "https://localhost:8080/"
        },
        "id": "8rC3cvYaRNjN",
        "outputId": "186ec411-aae8-4e0f-d92e-c119fedfa5b3"
      },
      "execution_count": null,
      "outputs": [
        {
          "output_type": "stream",
          "name": "stdout",
          "text": [
            "positive num\n"
          ]
        }
      ]
    },
    {
      "cell_type": "code",
      "source": [
        "n=10\n",
        "sum=0\n",
        "i=1\n",
        "while i<=n:\n",
        "  sum=sum+i\n",
        "  i=i+1\n",
        "print(\"the sum is\", sum)"
      ],
      "metadata": {
        "colab": {
          "base_uri": "https://localhost:8080/"
        },
        "id": "_vQPshssSC7H",
        "outputId": "7792885b-20c7-4ec3-e4cd-28d497cc6777"
      },
      "execution_count": null,
      "outputs": [
        {
          "output_type": "stream",
          "name": "stdout",
          "text": [
            "the sum is 55\n"
          ]
        }
      ]
    },
    {
      "cell_type": "code",
      "source": [
        "n=10\n",
        "sum=0\n",
        "i=1\n",
        "while i<=n:\n",
        "  sum=sum+i\n",
        "  i=i+1\n",
        "  print(\"the sum is\", sum)#here there will be a different poutput because of the diffeence in the indentation"
      ],
      "metadata": {
        "id": "PDVPftgrS3sF"
      },
      "execution_count": null,
      "outputs": []
    },
    {
      "cell_type": "code",
      "source": [
        "for i in range(5):\n",
        "  print (i)"
      ],
      "metadata": {
        "colab": {
          "base_uri": "https://localhost:8080/"
        },
        "id": "Vv0UcYY1UruR",
        "outputId": "cc072e88-bb49-43bf-a804-ac5b7b51f2db"
      },
      "execution_count": null,
      "outputs": [
        {
          "output_type": "stream",
          "name": "stdout",
          "text": [
            "0\n",
            "1\n",
            "2\n",
            "3\n",
            "4\n"
          ]
        }
      ]
    },
    {
      "cell_type": "code",
      "source": [
        "for x in range(2,6,):\n",
        "  print(x)"
      ],
      "metadata": {
        "colab": {
          "base_uri": "https://localhost:8080/"
        },
        "id": "oRnejMJnU-Hh",
        "outputId": "c3c10791-108c-4b3a-e04e-41df6f1a45ae"
      },
      "execution_count": null,
      "outputs": [
        {
          "output_type": "stream",
          "name": "stdout",
          "text": [
            "2\n",
            "3\n",
            "4\n",
            "5\n"
          ]
        }
      ]
    },
    {
      "cell_type": "code",
      "source": [
        "for x in range(2,6,2):#here we have given the step value\n",
        "  print(x)"
      ],
      "metadata": {
        "colab": {
          "base_uri": "https://localhost:8080/"
        },
        "id": "sl3FuyHXVtUB",
        "outputId": "61e81e04-edaa-48a3-d132-ada567637ba4"
      },
      "execution_count": null,
      "outputs": [
        {
          "output_type": "stream",
          "name": "stdout",
          "text": [
            "2\n",
            "4\n"
          ]
        }
      ]
    },
    {
      "cell_type": "code",
      "source": [
        "for x in range(1,6,2):\n",
        "  print(x, end=\"a\")"
      ],
      "metadata": {
        "colab": {
          "base_uri": "https://localhost:8080/"
        },
        "id": "tl39zfW6V_y5",
        "outputId": "c88a5e58-566d-4bbc-a930-c8b53967da7c"
      },
      "execution_count": null,
      "outputs": [
        {
          "output_type": "stream",
          "name": "stdout",
          "text": [
            "1a3a5a"
          ]
        }
      ]
    },
    {
      "cell_type": "code",
      "source": [
        "name1= \"vani\"\n",
        "for x in name1:\n",
        "  print(x)"
      ],
      "metadata": {
        "colab": {
          "base_uri": "https://localhost:8080/"
        },
        "id": "dqEe7iZJW3T8",
        "outputId": "f71f00ea-8727-4c09-d7a1-437a3a983a99"
      },
      "execution_count": null,
      "outputs": [
        {
          "output_type": "stream",
          "name": "stdout",
          "text": [
            "v\n",
            "a\n",
            "n\n",
            "i\n"
          ]
        }
      ]
    },
    {
      "cell_type": "code",
      "source": [
        "print (2**3)#using powers"
      ],
      "metadata": {
        "colab": {
          "base_uri": "https://localhost:8080/"
        },
        "id": "GSPTq8muY8iT",
        "outputId": "b46b5485-a765-49ce-d73f-eb69152c0595"
      },
      "execution_count": null,
      "outputs": [
        {
          "output_type": "stream",
          "name": "stdout",
          "text": [
            "8\n"
          ]
        }
      ]
    },
    {
      "cell_type": "code",
      "source": [
        "a= int(input())\n",
        "if (a%2==0):\n",
        " print(\"the number is even\")\n",
        "else :\n",
        " print(\"the number is odd\")"
      ],
      "metadata": {
        "colab": {
          "base_uri": "https://localhost:8080/"
        },
        "id": "HDC3HJPdZI6J",
        "outputId": "2bac6407-b064-4e24-8c65-f7eba2a5e083"
      },
      "execution_count": null,
      "outputs": [
        {
          "output_type": "stream",
          "name": "stdout",
          "text": [
            "6\n",
            "the number is even\n"
          ]
        }
      ]
    },
    {
      "cell_type": "code",
      "source": [],
      "metadata": {
        "id": "LpkkSb-wZ27y"
      },
      "execution_count": null,
      "outputs": []
    }
  ]
}